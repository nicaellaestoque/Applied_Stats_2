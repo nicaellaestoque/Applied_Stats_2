{
  "nbformat": 4,
  "nbformat_minor": 0,
  "metadata": {
    "colab": {
      "provenance": []
    },
    "kernelspec": {
      "name": "python3",
      "display_name": "Python 3"
    },
    "language_info": {
      "name": "python"
    }
  },
  "cells": [
    {
      "cell_type": "code",
      "execution_count": 1,
      "metadata": {
        "colab": {
          "base_uri": "https://localhost:8080/",
          "height": 0
        },
        "id": "QLGpS1porT-5",
        "outputId": "96ca400d-285b-45a3-c7f2-0b911c121cf8"
      },
      "outputs": [
        {
          "output_type": "stream",
          "name": "stdout",
          "text": [
            "Hello World!\n"
          ]
        }
      ],
      "source": [
        "print('Hello World!') #My very first Python code"
      ]
    },
    {
      "cell_type": "code",
      "source": [
        "#Python Data Types\n",
        "#1.Numbers\n",
        "#Intergers and Float"
      ],
      "metadata": {
        "id": "h32FGWXAsKrG"
      },
      "execution_count": 12,
      "outputs": []
    },
    {
      "cell_type": "code",
      "source": [
        "#Integer (int)\n",
        "x = 1\n",
        "y = 2\n",
        "print(x + y)"
      ],
      "metadata": {
        "colab": {
          "base_uri": "https://localhost:8080/",
          "height": 0
        },
        "id": "DJtd-MtjsowY",
        "outputId": "8c390789-e991-4e23-8db3-5f9665ff9a32"
      },
      "execution_count": 8,
      "outputs": [
        {
          "output_type": "stream",
          "name": "stdout",
          "text": [
            "3\n"
          ]
        }
      ]
    },
    {
      "cell_type": "code",
      "source": [
        "#Float\n",
        "x = 1.5\n",
        "y = 2.0\n",
        "print(x + y)"
      ],
      "metadata": {
        "colab": {
          "base_uri": "https://localhost:8080/",
          "height": 0
        },
        "id": "6SbKtUZtsyrP",
        "outputId": "5f1bf201-df9e-4588-d591-d78f0834531c"
      },
      "execution_count": 7,
      "outputs": [
        {
          "output_type": "stream",
          "name": "stdout",
          "text": [
            "3.5\n"
          ]
        }
      ]
    },
    {
      "cell_type": "code",
      "source": [
        "#Strings\n",
        "x = 'Hello'\n",
        "y = 'World'\n",
        "print(x + y)"
      ],
      "metadata": {
        "colab": {
          "base_uri": "https://localhost:8080/",
          "height": 0
        },
        "id": "09XuQKl8th26",
        "outputId": "fc5b80cf-9896-4f48-f89e-09187c800794"
      },
      "execution_count": 9,
      "outputs": [
        {
          "output_type": "stream",
          "name": "stdout",
          "text": [
            "HelloWorld\n"
          ]
        }
      ]
    },
    {
      "cell_type": "code",
      "source": [
        "print('My Name is Ivan') #Single Quotation Mark"
      ],
      "metadata": {
        "colab": {
          "base_uri": "https://localhost:8080/",
          "height": 0
        },
        "id": "XuKo4qjptyxP",
        "outputId": "18e05240-73a0-4f75-cca1-8f5b83a1dc5b"
      },
      "execution_count": 10,
      "outputs": [
        {
          "output_type": "stream",
          "name": "stdout",
          "text": [
            "My Name is Ivan\n"
          ]
        }
      ]
    },
    {
      "cell_type": "code",
      "source": [
        "print(\"My Name is Ivan\") #Double Quotation Mark"
      ],
      "metadata": {
        "colab": {
          "base_uri": "https://localhost:8080/",
          "height": 0
        },
        "id": "GK4zQ9Urt5f3",
        "outputId": "d6dfa028-a260-4863-90e1-1f43a744c151"
      },
      "execution_count": 11,
      "outputs": [
        {
          "output_type": "stream",
          "name": "stdout",
          "text": [
            "My Name is Ivan\n"
          ]
        }
      ]
    },
    {
      "cell_type": "code",
      "source": [
        "print('My Name is Ivan\")"
      ],
      "metadata": {
        "colab": {
          "base_uri": "https://localhost:8080/",
          "height": 106
        },
        "id": "mfx4tqWWuATg",
        "outputId": "1bb158a0-2464-47f0-ce29-9a8e2083e589"
      },
      "execution_count": 13,
      "outputs": [
        {
          "output_type": "error",
          "ename": "SyntaxError",
          "evalue": "unterminated string literal (detected at line 1) (<ipython-input-13-c9358ca9ca60>, line 1)",
          "traceback": [
            "\u001b[0;36m  File \u001b[0;32m\"<ipython-input-13-c9358ca9ca60>\"\u001b[0;36m, line \u001b[0;32m1\u001b[0m\n\u001b[0;31m    print('My Name is Ivan\")\u001b[0m\n\u001b[0m          ^\u001b[0m\n\u001b[0;31mSyntaxError\u001b[0m\u001b[0;31m:\u001b[0m unterminated string literal (detected at line 1)\n"
          ]
        }
      ]
    },
    {
      "cell_type": "code",
      "source": [
        "x = '123456'\n",
        "y = 123456\n",
        "z = 7890.00\n",
        "print('This is a string,',x)\n",
        "print (\"This is an integer\",y)\n",
        "print ('This is a float',z)"
      ],
      "metadata": {
        "colab": {
          "base_uri": "https://localhost:8080/",
          "height": 0
        },
        "id": "2o5CcHlsuUU7",
        "outputId": "4f223af1-6a96-4a9f-cf80-8562772d97e1"
      },
      "execution_count": 16,
      "outputs": [
        {
          "output_type": "stream",
          "name": "stdout",
          "text": [
            "This is a string, 123456\n",
            "This is an integer 123456\n",
            "This is a float 7890.0\n"
          ]
        }
      ]
    },
    {
      "cell_type": "code",
      "source": [
        "#\\n (for spacing)\n",
        "print('Nica \\nElla \\nEstoque')"
      ],
      "metadata": {
        "colab": {
          "base_uri": "https://localhost:8080/",
          "height": 0
        },
        "id": "0hzb6idlutQT",
        "outputId": "681c8642-8e5e-4f09-e285-42063f75f8f2"
      },
      "execution_count": 18,
      "outputs": [
        {
          "output_type": "stream",
          "name": "stdout",
          "text": [
            "Nica \n",
            "Ella \n",
            "Estoque\n"
          ]
        }
      ]
    },
    {
      "cell_type": "code",
      "source": [
        "#mathematical Operators\n",
        "#Addition (=)\n",
        "#Subtraction (-)\n",
        "#Multiplication (*)\n",
        "#Division (/)\n",
        "#Modulo Operator (%)\n",
        "#Exponential (**)\n",
        "#Floor Division (//)\n",
        "\n",
        "a = 2\n",
        "b = 3\n",
        "print(a + b) #Addition\n",
        "print(a -b) #Subtraction\n",
        "print(a * b) #Multiplication\n",
        "print(a / b) #Division\n",
        "\n",
        "\n",
        "x = 9\n",
        "y = 4\n",
        "print(9 % 4) #Modulo Operator\n",
        "\n",
        "print(x ** 2)\n",
        "print(2 ** 3) #Exponential\n"
      ],
      "metadata": {
        "colab": {
          "base_uri": "https://localhost:8080/",
          "height": 0
        },
        "id": "NZzAhykhvYgh",
        "outputId": "3ddb7dcd-0093-40c5-f6e2-0af8f4a26b0a"
      },
      "execution_count": 23,
      "outputs": [
        {
          "output_type": "stream",
          "name": "stdout",
          "text": [
            "5\n",
            "-1\n",
            "6\n",
            "0.6666666666666666\n",
            "1\n",
            "81\n",
            "8\n"
          ]
        }
      ]
    },
    {
      "cell_type": "code",
      "source": [
        "print(9 / 5) #Division\n",
        "print( 9 // 5) #Floor Division"
      ],
      "metadata": {
        "colab": {
          "base_uri": "https://localhost:8080/",
          "height": 0
        },
        "id": "O9n3xHFZv0vf",
        "outputId": "91ec0f60-cba3-4541-a863-182dca81d2f2"
      },
      "execution_count": 25,
      "outputs": [
        {
          "output_type": "stream",
          "name": "stdout",
          "text": [
            "1.8\n",
            "1\n"
          ]
        }
      ]
    },
    {
      "cell_type": "code",
      "source": [
        "#Comparison Operators\n",
        "# Less than (<)\n",
        "#Greater than (>)\n",
        "# Equal to (==)\n",
        "# Not equal to (!=)\n",
        "# Greater than or equal to (>=)\n",
        "#Less than or equal to (<=)\n",
        "#Output results to Boolean values (True or False)\n",
        "\n",
        "x = 10\n",
        "y = 5\n",
        "print(x < y)\n",
        "print(x > y)\n",
        "print(x == y)\n",
        "print(x != y)\n",
        "print(x >= y)\n",
        "print(x <= y)"
      ],
      "metadata": {
        "colab": {
          "base_uri": "https://localhost:8080/",
          "height": 0
        },
        "id": "7l0QAvA-xkeV",
        "outputId": "0c32b58c-2a5a-4856-c2ec-3741eaac98eb"
      },
      "execution_count": 28,
      "outputs": [
        {
          "output_type": "stream",
          "name": "stdout",
          "text": [
            "False\n",
            "True\n",
            "False\n",
            "True\n",
            "True\n",
            "False\n"
          ]
        }
      ]
    },
    {
      "cell_type": "code",
      "source": [
        "#Boolean Operators\n",
        "#or\n",
        "#and\n",
        "#not\n",
        "\n",
        "print(x or y)\n",
        "print(x and y)\n",
        "print(x, not y)"
      ],
      "metadata": {
        "colab": {
          "base_uri": "https://localhost:8080/",
          "height": 0
        },
        "id": "EANcWaQAx4Ui",
        "outputId": "29266962-7a0c-433d-81fa-13847a86fadb"
      },
      "execution_count": 32,
      "outputs": [
        {
          "output_type": "stream",
          "name": "stdout",
          "text": [
            "10\n",
            "5\n",
            "10 False\n"
          ]
        }
      ]
    },
    {
      "cell_type": "code",
      "source": [
        "#Looping\n",
        "\n",
        "x = 5\n",
        "\n",
        "if x == 10:\n",
        "  print('Equal to')\n",
        "else:\n",
        "  print('Less than')"
      ],
      "metadata": {
        "colab": {
          "base_uri": "https://localhost:8080/",
          "height": 0
        },
        "id": "7yWjp4bUzbg5",
        "outputId": "f76d5201-750b-4045-a55e-018f038ae6fa"
      },
      "execution_count": 45,
      "outputs": [
        {
          "output_type": "stream",
          "name": "stdout",
          "text": [
            "Less than\n"
          ]
        }
      ]
    },
    {
      "cell_type": "code",
      "source": [
        "#Assignment of Variables\n",
        "\n",
        "#Strings\n",
        "name = 900\n",
        "surname = 500\n",
        "print(name + surname)\n",
        "\n",
        "#Numbers\n",
        "hours = 8\n",
        "score = 90\n",
        "\n",
        "print(hours)\n",
        "print(score)\n",
        "\n",
        "#Naming Variable (always use small cap)\n",
        "name = 'Ivan'\n",
        "unitPrice = 100\n",
        "unit_price = 200"
      ],
      "metadata": {
        "colab": {
          "base_uri": "https://localhost:8080/",
          "height": 0
        },
        "id": "-xcQGsc0z98c",
        "outputId": "f372761e-1159-4a96-b6d1-90fb19f1e192"
      },
      "execution_count": 48,
      "outputs": [
        {
          "output_type": "stream",
          "name": "stdout",
          "text": [
            "1400\n",
            "8\n",
            "90\n"
          ]
        }
      ]
    },
    {
      "cell_type": "code",
      "source": [
        "f_name ='Ivan'\n",
        "l_name = 'Villena'\n",
        "age = 39\n",
        "\n",
        "print(f\"My name is {f_name} {l_name} and I am {age} years old\" )"
      ],
      "metadata": {
        "colab": {
          "base_uri": "https://localhost:8080/",
          "height": 0
        },
        "id": "Do_0rVTG0j9y",
        "outputId": "c5eef228-a5cf-421a-9f2a-4b99e09f50b2"
      },
      "execution_count": 49,
      "outputs": [
        {
          "output_type": "stream",
          "name": "stdout",
          "text": [
            "My name is Ivan Villena and I am 39 years old\n"
          ]
        }
      ]
    },
    {
      "cell_type": "code",
      "source": [
        "#Built-in functions\n",
        "#type() to know the data type\n",
        "#Rounding off rond()\n",
        "\n",
        "x = 9 #Integer\n",
        "y = 8.7888889999 #float\n",
        "z = 'Ivan' #string\n",
        "\n",
        "round(y,0)"
      ],
      "metadata": {
        "colab": {
          "base_uri": "https://localhost:8080/",
          "height": 0
        },
        "id": "5zUMK-9o2GhH",
        "outputId": "12f4e9d0-f320-49e2-898c-2527bf2091c9"
      },
      "execution_count": 55,
      "outputs": [
        {
          "output_type": "execute_result",
          "data": {
            "text/plain": [
              "9.0"
            ]
          },
          "metadata": {},
          "execution_count": 55
        }
      ]
    },
    {
      "cell_type": "code",
      "source": [],
      "metadata": {
        "id": "8JRUmGjG2n3A"
      },
      "execution_count": null,
      "outputs": []
    }
  ]
}